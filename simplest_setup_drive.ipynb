{
  "nbformat": 4,
  "nbformat_minor": 0,
  "metadata": {
    "colab": {
      "name": "simplest setup drive.ipynb",
      "provenance": [],
      "collapsed_sections": [],
      "authorship_tag": "ABX9TyO8iKlv6ZnkT1XU2P2I68Ib",
      "include_colab_link": true
    },
    "kernelspec": {
      "name": "python3",
      "display_name": "Python 3"
    },
    "language_info": {
      "name": "python"
    },
    "accelerator": "GPU"
  },
  "cells": [
    {
      "cell_type": "markdown",
      "metadata": {
        "id": "view-in-github",
        "colab_type": "text"
      },
      "source": [
        "<a href=\"https://colab.research.google.com/github/DazhiZhong/Pixray_Notebooks/blob/main/simplest_setup_drive.ipynb\" target=\"_parent\"><img src=\"https://colab.research.google.com/assets/colab-badge.svg\" alt=\"Open In Colab\"/></a>"
      ]
    },
    {
      "cell_type": "code",
      "execution_count": null,
      "metadata": {
        "cellView": "form",
        "colab": {
          "base_uri": "https://localhost:8080/"
        },
        "id": "29s68VWaFLMm",
        "outputId": "f7b67afe-86b9-48a9-8f5a-d2a74e25c6a8"
      },
      "outputs": [
        {
          "output_type": "stream",
          "name": "stdout",
          "text": [
            "Mounted at /content/drive\n",
            "Created folder & set root path to: /content/drive/MyDrive/pixray_single\n",
            "/content/drive/MyDrive/pixray_single\n"
          ]
        }
      ],
      "source": [
        "#@title connect to drive\n",
        "\n",
        "import os\n",
        "import sys\n",
        "from google.colab import drive\n",
        "abs_root_path = \"/content\"\n",
        "drive.mount('/content/drive')\n",
        "folder_name = \"pixrayfast\" #@param {type: \"string\"}\n",
        "\n",
        "if len(folder_name) > 0:\n",
        "    path_tmp = abs_root_path + \"/drive/MyDrive/\" + folder_name\n",
        "    if not os.path.exists(path_tmp):\n",
        "        os.mkdir(path_tmp)\n",
        "    abs_root_path = path_tmp\n",
        "\n",
        "print(\"Created folder & set root path to: \" + abs_root_path)\n",
        "# os.chdir(abs_root_path)\n",
        "\n",
        "%cd {abs_root_path}\n"
      ]
    },
    {
      "cell_type": "code",
      "source": [
        "#don't need to restart runtime :)\n",
        "!pip install https://dazhi.art/f/pixray-1.5.1-py3-none-any.whl &> /dev/null"
      ],
      "metadata": {
        "id": "Gc-V9VZITcj_"
      },
      "execution_count": null,
      "outputs": []
    },
    {
      "cell_type": "code",
      "execution_count": null,
      "metadata": {
        "id": "_KTzbWqRMMBP",
        "colab": {
          "base_uri": "https://localhost:8080/",
          "height": 373
        },
        "outputId": "cc1dff56-f1e7-4a67-b199-3c6788571894"
      },
      "outputs": [
        {
          "output_type": "error",
          "ename": "ModuleNotFoundError",
          "evalue": "ignored",
          "traceback": [
            "\u001b[0;31m---------------------------------------------------------------------------\u001b[0m",
            "\u001b[0;31mModuleNotFoundError\u001b[0m                       Traceback (most recent call last)",
            "\u001b[0;32m<ipython-input-1-c8d9f0c5b236>\u001b[0m in \u001b[0;36m<module>\u001b[0;34m()\u001b[0m\n\u001b[0;32m----> 1\u001b[0;31m \u001b[0;32mimport\u001b[0m \u001b[0mpixray\u001b[0m\u001b[0;34m\u001b[0m\u001b[0;34m\u001b[0m\u001b[0m\n\u001b[0m\u001b[1;32m      2\u001b[0m \u001b[0;34m\u001b[0m\u001b[0m\n\u001b[1;32m      3\u001b[0m pixray.run(\n\u001b[1;32m      4\u001b[0m     \u001b[0;34m\"a sunset at sea\"\u001b[0m\u001b[0;34m,\u001b[0m\u001b[0;34m\u001b[0m\u001b[0;34m\u001b[0m\u001b[0m\n\u001b[1;32m      5\u001b[0m     \u001b[0;34m\"vdiff\"\u001b[0m\u001b[0;34m,\u001b[0m\u001b[0;34m\u001b[0m\u001b[0;34m\u001b[0m\u001b[0m\n",
            "\u001b[0;31mModuleNotFoundError\u001b[0m: No module named 'pixray'",
            "",
            "\u001b[0;31m---------------------------------------------------------------------------\u001b[0;32m\nNOTE: If your import is failing due to a missing package, you can\nmanually install dependencies using either !pip or !apt.\n\nTo view examples of installing some common dependencies, click the\n\"Open Examples\" button below.\n\u001b[0;31m---------------------------------------------------------------------------\u001b[0m\n"
          ],
          "errorDetails": {
            "actions": [
              {
                "action": "open_url",
                "actionText": "Open Examples",
                "url": "/notebooks/snippets/importing_libraries.ipynb"
              }
            ]
          }
        }
      ],
      "source": [
        "import pixray\n",
        "\n",
        "pixray.run(\n",
        "    \"heavy gouache oil painting\",\n",
        "    \"vdiff\",\n",
        "    size=[512,1024], \n",
        "    init_image=\"/content/FJXrsWBWQAUtdAR.png\",\n",
        "    init_image_alpha=255,\n",
        "    vdiff_init_skip=0.7, \n",
        "    iterations=200,\n",
        "    learning_rate=0.01\n",
        "    #any pixray settings...\n",
        ")"
      ]
    },
    {
      "cell_type": "code",
      "source": [
        ""
      ],
      "metadata": {
        "id": "86VIMlOuPR0p"
      },
      "execution_count": null,
      "outputs": []
    },
    {
      "cell_type": "code",
      "source": [
        ""
      ],
      "metadata": {
        "id": "GGZRT8RzR3iE"
      },
      "execution_count": null,
      "outputs": []
    }
  ]
}