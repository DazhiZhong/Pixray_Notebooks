{
  "nbformat": 4,
  "nbformat_minor": 0,
  "metadata": {
    "colab": {
      "name": "pixray diffusion showcase.ipynb",
      "provenance": [],
      "collapsed_sections": [
        "ZRSjap19aRgU"
      ],
      "machine_shape": "hm",
      "authorship_tag": "ABX9TyP8tk8BJFMOycxLHrO+JtN8",
      "include_colab_link": true
    },
    "kernelspec": {
      "name": "python3",
      "display_name": "Python 3"
    },
    "language_info": {
      "name": "python"
    },
    "accelerator": "GPU"
  },
  "cells": [
    {
      "cell_type": "markdown",
      "metadata": {
        "id": "view-in-github",
        "colab_type": "text"
      },
      "source": [
        "<a href=\"https://colab.research.google.com/github/DazhiZhong/Pixray_Notebooks/blob/main/pixray_diffusion_showcase.ipynb\" target=\"_parent\"><img src=\"https://colab.research.google.com/assets/colab-badge.svg\" alt=\"Open In Colab\"/></a>"
      ]
    },
    {
      "cell_type": "markdown",
      "source": [
        "# init"
      ],
      "metadata": {
        "id": "ZRSjap19aRgU"
      }
    },
    {
      "cell_type": "code",
      "source": [
        "!rm -rf pixray\n",
        "!git clone -b vdiffcomplete https://github.com/DazhiZhong/pixray-1 pixray\n",
        "!rm -rf v-diffusion-pytorch\n",
        "!git clone --recursive https://github.com/DazhiZhong/v-diffusion-pytorch"
      ],
      "metadata": {
        "colab": {
          "base_uri": "https://localhost:8080/"
        },
        "id": "DUfBToxpT0W-",
        "outputId": "f62b6b8e-3503-4ba5-997b-19d59c8bbac5"
      },
      "execution_count": 1,
      "outputs": [
        {
          "output_type": "stream",
          "name": "stdout",
          "text": [
            "Cloning into 'pixray'...\n",
            "remote: Enumerating objects: 822, done.\u001b[K\n",
            "remote: Counting objects: 100% (29/29), done.\u001b[K\n",
            "remote: Compressing objects: 100% (20/20), done.\u001b[K\n",
            "remote: Total 822 (delta 14), reused 21 (delta 9), pack-reused 793\u001b[K\n",
            "Receiving objects: 100% (822/822), 282.77 KiB | 12.29 MiB/s, done.\n",
            "Resolving deltas: 100% (522/522), done.\n",
            "Cloning into 'v-diffusion-pytorch'...\n",
            "remote: Enumerating objects: 58, done.\u001b[K\n",
            "remote: Counting objects: 100% (32/32), done.\u001b[K\n",
            "remote: Compressing objects: 100% (23/23), done.\u001b[K\n",
            "remote: Total 58 (delta 16), reused 22 (delta 9), pack-reused 26\u001b[K\n",
            "Unpacking objects: 100% (58/58), done.\n",
            "Submodule 'CLIP' (https://github.com/openai/CLIP) registered for path 'CLIP'\n",
            "Cloning into '/content/v-diffusion-pytorch/CLIP'...\n",
            "remote: Enumerating objects: 185, done.        \n",
            "remote: Counting objects: 100% (17/17), done.        \n",
            "remote: Compressing objects: 100% (11/11), done.        \n",
            "remote: Total 185 (delta 7), reused 13 (delta 4), pack-reused 168        \n",
            "Receiving objects: 100% (185/185), 8.90 MiB | 21.45 MiB/s, done.\n",
            "Resolving deltas: 100% (89/89), done.\n",
            "Submodule path 'CLIP': checked out '573315e83f07b53a61ff5098757e8fc885f1703e'\n"
          ]
        }
      ]
    },
    {
      "cell_type": "code",
      "source": [
        "!pip install -r v-diffusion-pytorch/requirements.txt"
      ],
      "metadata": {
        "colab": {
          "base_uri": "https://localhost:8080/"
        },
        "id": "VuRH45xTcF5A",
        "outputId": "26839566-5895-4ecf-9627-0f9036d623d2"
      },
      "execution_count": 2,
      "outputs": [
        {
          "output_type": "stream",
          "name": "stdout",
          "text": [
            "Collecting ftfy\n",
            "  Downloading ftfy-6.0.3.tar.gz (64 kB)\n",
            "\u001b[?25l\r\u001b[K     |█████                           | 10 kB 28.3 MB/s eta 0:00:01\r\u001b[K     |██████████▏                     | 20 kB 29.9 MB/s eta 0:00:01\r\u001b[K     |███████████████▎                | 30 kB 19.6 MB/s eta 0:00:01\r\u001b[K     |████████████████████▍           | 40 kB 16.3 MB/s eta 0:00:01\r\u001b[K     |█████████████████████████▌      | 51 kB 9.2 MB/s eta 0:00:01\r\u001b[K     |██████████████████████████████▋ | 61 kB 10.8 MB/s eta 0:00:01\r\u001b[K     |████████████████████████████████| 64 kB 2.3 MB/s \n",
            "\u001b[?25hRequirement already satisfied: regex in /usr/local/lib/python3.7/dist-packages (from -r v-diffusion-pytorch/requirements.txt (line 2)) (2019.12.20)\n",
            "Requirement already satisfied: requests in /usr/local/lib/python3.7/dist-packages (from -r v-diffusion-pytorch/requirements.txt (line 3)) (2.23.0)\n",
            "Requirement already satisfied: Pillow in /usr/local/lib/python3.7/dist-packages (from -r v-diffusion-pytorch/requirements.txt (line 4)) (7.1.2)\n",
            "Requirement already satisfied: torch in /usr/local/lib/python3.7/dist-packages (from -r v-diffusion-pytorch/requirements.txt (line 5)) (1.10.0+cu111)\n",
            "Requirement already satisfied: torchvision in /usr/local/lib/python3.7/dist-packages (from -r v-diffusion-pytorch/requirements.txt (line 6)) (0.11.1+cu111)\n",
            "Requirement already satisfied: tqdm in /usr/local/lib/python3.7/dist-packages (from -r v-diffusion-pytorch/requirements.txt (line 7)) (4.62.3)\n",
            "Requirement already satisfied: wcwidth in /usr/local/lib/python3.7/dist-packages (from ftfy->-r v-diffusion-pytorch/requirements.txt (line 1)) (0.2.5)\n",
            "Requirement already satisfied: urllib3!=1.25.0,!=1.25.1,<1.26,>=1.21.1 in /usr/local/lib/python3.7/dist-packages (from requests->-r v-diffusion-pytorch/requirements.txt (line 3)) (1.24.3)\n",
            "Requirement already satisfied: idna<3,>=2.5 in /usr/local/lib/python3.7/dist-packages (from requests->-r v-diffusion-pytorch/requirements.txt (line 3)) (2.10)\n",
            "Requirement already satisfied: chardet<4,>=3.0.2 in /usr/local/lib/python3.7/dist-packages (from requests->-r v-diffusion-pytorch/requirements.txt (line 3)) (3.0.4)\n",
            "Requirement already satisfied: certifi>=2017.4.17 in /usr/local/lib/python3.7/dist-packages (from requests->-r v-diffusion-pytorch/requirements.txt (line 3)) (2021.10.8)\n",
            "Requirement already satisfied: typing-extensions in /usr/local/lib/python3.7/dist-packages (from torch->-r v-diffusion-pytorch/requirements.txt (line 5)) (3.10.0.2)\n",
            "Requirement already satisfied: numpy in /usr/local/lib/python3.7/dist-packages (from torchvision->-r v-diffusion-pytorch/requirements.txt (line 6)) (1.19.5)\n",
            "Building wheels for collected packages: ftfy\n",
            "  Building wheel for ftfy (setup.py) ... \u001b[?25l\u001b[?25hdone\n",
            "  Created wheel for ftfy: filename=ftfy-6.0.3-py3-none-any.whl size=41933 sha256=c1bb637b677118bc7e79d2a44923687a0f191566779b6638da3e2c88a61a837a\n",
            "  Stored in directory: /root/.cache/pip/wheels/19/f5/38/273eb3b5e76dfd850619312f693716ac4518b498f5ffb6f56d\n",
            "Successfully built ftfy\n",
            "Installing collected packages: ftfy\n",
            "Successfully installed ftfy-6.0.3\n"
          ]
        }
      ]
    },
    {
      "cell_type": "code",
      "source": [
        "!pip install -r pixray/requirements.txt\n",
        "!pip uninstall -y tensorflow \n",
        "!git clone https://github.com/pixray/diffvg\n",
        "%cd diffvg\n",
        "!git submodule update --init --recursive\n",
        "!python setup.py install\n",
        "%cd ..\n",
        "!pip freeze | grep torch"
      ],
      "metadata": {
        "colab": {
          "base_uri": "https://localhost:8080/"
        },
        "id": "5VpoaFljbSu-",
        "outputId": "2650fa51-88cd-4962-c07f-7e056e17be00"
      },
      "execution_count": null,
      "outputs": [
        {
          "output_type": "stream",
          "name": "stdout",
          "text": [
            "Looking in links: https://download.pytorch.org/whl/torch_stable.html\n",
            "Collecting git+https://github.com/bfirsh/taming-transformers.git@7a6e64ee (from -r pixray/requirements.txt (line 28))\n",
            "  Cloning https://github.com/bfirsh/taming-transformers.git (to revision 7a6e64ee) to /tmp/pip-req-build-sg4038r9\n",
            "  Running command git clone -q https://github.com/bfirsh/taming-transformers.git /tmp/pip-req-build-sg4038r9\n",
            "\u001b[33m  WARNING: Did not find branch or tag '7a6e64ee', assuming revision or ref.\u001b[0m\n",
            "  Running command git checkout -q 7a6e64ee\n",
            "Collecting git+https://github.com/openai/CLIP@573315e (from -r pixray/requirements.txt (line 29))\n",
            "  Cloning https://github.com/openai/CLIP (to revision 573315e) to /tmp/pip-req-build-1b1xdc8k\n",
            "  Running command git clone -q https://github.com/openai/CLIP /tmp/pip-req-build-1b1xdc8k\n",
            "\u001b[33m  WARNING: Did not find branch or tag '573315e', assuming revision or ref.\u001b[0m\n",
            "  Running command git checkout -q 573315e\n",
            "Collecting git+https://github.com/pvigier/perlin-numpy@6f077f8 (from -r pixray/requirements.txt (line 30))\n",
            "  Cloning https://github.com/pvigier/perlin-numpy (to revision 6f077f8) to /tmp/pip-req-build-860k2vcm\n",
            "  Running command git clone -q https://github.com/pvigier/perlin-numpy /tmp/pip-req-build-860k2vcm\n",
            "\u001b[33m  WARNING: Did not find branch or tag '6f077f8', assuming revision or ref.\u001b[0m\n",
            "  Running command git checkout -q 6f077f8\n",
            "Collecting git+https://github.com/fbcotter/pytorch_wavelets (from -r pixray/requirements.txt (line 46))\n",
            "  Cloning https://github.com/fbcotter/pytorch_wavelets to /tmp/pip-req-build-73mo0wmr\n",
            "  Running command git clone -q https://github.com/fbcotter/pytorch_wavelets /tmp/pip-req-build-73mo0wmr\n",
            "Collecting git+https://github.com/pixray/aphantasia@7e6b3bb (from -r pixray/requirements.txt (line 49))\n",
            "  Cloning https://github.com/pixray/aphantasia (to revision 7e6b3bb) to /tmp/pip-req-build-upogcsjj\n",
            "  Running command git clone -q https://github.com/pixray/aphantasia /tmp/pip-req-build-upogcsjj\n",
            "\u001b[33m  WARNING: Did not find branch or tag '7e6b3bb', assuming revision or ref.\u001b[0m\n",
            "  Running command git checkout -q 7e6b3bb\n",
            "Collecting torch==1.9.0+cu102\n",
            "  Downloading https://download.pytorch.org/whl/cu102/torch-1.9.0%2Bcu102-cp37-cp37m-linux_x86_64.whl (831.4 MB)\n",
            "\u001b[K     |████████████████████████████████| 831.4 MB 2.8 kB/s \n",
            "\u001b[?25hCollecting torchvision==0.10.0+cu102\n",
            "  Downloading https://download.pytorch.org/whl/cu102/torchvision-0.10.0%2Bcu102-cp37-cp37m-linux_x86_64.whl (22.1 MB)\n",
            "\u001b[K     |████████████████████████████████| 22.1 MB 1.2 MB/s \n"
          ]
        }
      ]
    },
    {
      "cell_type": "code",
      "source": [
        "import os\n",
        "os.makedirs(\"v-diffusion-pytorch/checkpoints\", exist_ok=True)\n",
        "os.makedirs(\"pixray/checkpoints\", exist_ok=True)\n",
        "os.makedirs(\"models\", exist_ok=True)"
      ],
      "metadata": {
        "id": "RHTIFuiPImXR"
      },
      "execution_count": null,
      "outputs": []
    },
    {
      "cell_type": "code",
      "source": [
        "!wget --output-document models/yfcc_2.pth https://v-diffusion.s3.us-west-2.amazonaws.com/yfcc_2.pth --continue\n",
        "!cp models/yfcc_2.pth pixray/checkpoints/yfcc_2.pth \n",
        "!cp models/yfcc_2.pth v-diffusion-pytorch/checkpoints/yfcc_2.pth"
      ],
      "metadata": {
        "id": "hV8A234zbCd3"
      },
      "execution_count": null,
      "outputs": []
    },
    {
      "cell_type": "markdown",
      "source": [
        "# main"
      ],
      "metadata": {
        "id": "FXj93Ea-JBZG"
      }
    },
    {
      "cell_type": "code",
      "source": [
        "#@title Run pixray diffusion { vertical-output: true }\n",
        "\n",
        "import sys\n",
        "sys.path.append(\"pixray\")\n",
        "# Simple setup\n",
        "import pixray\n",
        "\n",
        "prompts = \"spicy chili peppers | trending on artstation\"\n",
        "drawer = \"vdiff\"\n",
        "\n",
        "# these are good settings for pixeldraw\n",
        "pixray.reset_settings()\n",
        "pixray.add_settings(prompts=prompts)\n",
        "pixray.add_settings(quality=\"best\")\n",
        "pixray.add_settings(size=[512,512])\n",
        "pixray.add_settings(iterations=200)\n",
        "pixray.add_settings(drawer=drawer)\n",
        "pixray.add_settings(learning_rate=0.01)\n",
        "# pixray.add_settings(save_every=100)\n",
        "# pixray.add_settings(display_every=100)\n",
        "# pixray.add_settings(learning_rate_drops=[1,2,3,4,5,6,7,8,9,10])\n",
        "pixray.add_settings(display_clear=False)\n",
        "settings = pixray.apply_settings()\n",
        "pixray.do_init(settings)\n",
        "pixray.do_run(settings)"
      ],
      "metadata": {
        "id": "bJC0puEPbSsn"
      },
      "execution_count": null,
      "outputs": []
    },
    {
      "cell_type": "code",
      "source": [
        "#@title run og diffusion { vertical-output: true }\n",
        "!cd v-diffusion-pytorch && python clip_sample.py \"a sunset at sea\" --model yfcc_2 --seed 42\n",
        "display.clear_output()\n",
        "from IPython.display import Image\n",
        "display(Image(\"v-diffusion-pytorch/out_00000.png\"))"
      ],
      "metadata": {
        "id": "p06rZzBAYsv2"
      },
      "execution_count": null,
      "outputs": []
    }
  ]
}